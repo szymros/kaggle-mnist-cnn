{
  "nbformat": 4,
  "nbformat_minor": 0,
  "metadata": {
    "colab": {
      "name": "kaggle-mnist-cnn.ipynb",
      "provenance": [],
      "authorship_tag": "ABX9TyNv5y4XkLoS0hi2GmXC2Q1K",
      "include_colab_link": true
    },
    "kernelspec": {
      "name": "python3",
      "display_name": "Python 3"
    },
    "language_info": {
      "name": "python"
    }
  },
  "cells": [
    {
      "cell_type": "markdown",
      "metadata": {
        "id": "view-in-github",
        "colab_type": "text"
      },
      "source": [
        "<a href=\"https://colab.research.google.com/github/szymros/kaggle-mnist-cnn/blob/main/kaggle_mnist_cnn.ipynb\" target=\"_parent\"><img src=\"https://colab.research.google.com/assets/colab-badge.svg\" alt=\"Open In Colab\"/></a>"
      ]
    },
    {
      "cell_type": "code",
      "metadata": {
        "colab": {
          "base_uri": "https://localhost:8080/"
        },
        "id": "myCbh-bIKJpI",
        "outputId": "bbe50388-20e4-4a82-f7a2-2915294ebab7"
      },
      "source": [
        "import pandas as pd\n",
        "\n",
        "data = pd.read_csv('train.csv')\n",
        "y = pd.get_dummies(data['label']).to_numpy(dtype='float32')\n",
        "data.pop(item='label')\n",
        "X = data.to_numpy(dtype='float32')\n",
        "X = X/255.0\n",
        "X = X.reshape((-1,28,28,1))\n",
        "X.shape, y"
      ],
      "execution_count": 51,
      "outputs": [
        {
          "output_type": "execute_result",
          "data": {
            "text/plain": [
              "((42000, 28, 28, 1), array([[0., 1., 0., ..., 0., 0., 0.],\n",
              "        [1., 0., 0., ..., 0., 0., 0.],\n",
              "        [0., 1., 0., ..., 0., 0., 0.],\n",
              "        ...,\n",
              "        [0., 0., 0., ..., 1., 0., 0.],\n",
              "        [0., 0., 0., ..., 0., 0., 0.],\n",
              "        [0., 0., 0., ..., 0., 0., 1.]], dtype=float32))"
            ]
          },
          "metadata": {},
          "execution_count": 51
        }
      ]
    },
    {
      "cell_type": "code",
      "metadata": {
        "id": "OP0gKTSmA_xG"
      },
      "source": [
        "import tensorflow as tf\n",
        "from tensorflow.keras.layers import Dense, Flatten, Conv2D, MaxPool2D\n",
        "\n",
        "model = tf.keras.models.Sequential()\n",
        "\n",
        "model.add(Conv2D(32, (3,3), input_shape=(28,28,1), name='conv1'))\n",
        "model.add(MaxPool2D(pool_size=(2,2), name='pool1'))\n",
        "\n",
        "model.add(Conv2D(32, (3,3), name='conv2'))\n",
        "model.add(MaxPool2D(pool_size=(2,2), name='pool2'))\n",
        "\n",
        "model.add(Flatten())\n",
        "model.add(Dense(64, activation=tf.nn.relu))\n",
        "model.add(Dense(10, activation=tf.nn.softmax))\n",
        "\n",
        "model.compile(optimizer=tf.keras.optimizers.Adam(),\n",
        "              loss=tf.keras.losses.CategoricalCrossentropy(),\n",
        "              metrics=['accuracy'])"
      ],
      "execution_count": 61,
      "outputs": []
    },
    {
      "cell_type": "code",
      "metadata": {
        "colab": {
          "base_uri": "https://localhost:8080/"
        },
        "id": "ipNh0fUDGAO7",
        "outputId": "3a09410d-d220-4cf4-c317-a39086b317ce"
      },
      "source": [
        "history = model.fit(X, y, epochs=3 validation_split=0.15, batch_size=20)"
      ],
      "execution_count": 58,
      "outputs": [
        {
          "output_type": "stream",
          "name": "stdout",
          "text": [
            "Epoch 1/5\n",
            "1785/1785 [==============================] - 26s 14ms/step - loss: 0.1952 - accuracy: 0.9403 - val_loss: 0.0766 - val_accuracy: 0.9781\n",
            "Epoch 2/5\n",
            "1785/1785 [==============================] - 25s 14ms/step - loss: 0.0614 - accuracy: 0.9808 - val_loss: 0.0642 - val_accuracy: 0.9814\n",
            "Epoch 3/5\n",
            "1785/1785 [==============================] - 25s 14ms/step - loss: 0.0439 - accuracy: 0.9864 - val_loss: 0.0499 - val_accuracy: 0.9851\n",
            "Epoch 4/5\n",
            "1785/1785 [==============================] - 25s 14ms/step - loss: 0.0328 - accuracy: 0.9892 - val_loss: 0.0604 - val_accuracy: 0.9840\n",
            "Epoch 5/5\n",
            "1785/1785 [==============================] - 26s 14ms/step - loss: 0.0249 - accuracy: 0.9917 - val_loss: 0.0576 - val_accuracy: 0.9837\n"
          ]
        }
      ]
    },
    {
      "cell_type": "code",
      "metadata": {
        "colab": {
          "base_uri": "https://localhost:8080/",
          "height": 282
        },
        "id": "GRcNqr1yKDSl",
        "outputId": "303dec73-de7f-494a-fd0d-982a88a66b36"
      },
      "source": [
        "pd.DataFrame(history.history).plot()"
      ],
      "execution_count": 60,
      "outputs": [
        {
          "output_type": "execute_result",
          "data": {
            "text/plain": [
              "<matplotlib.axes._subplots.AxesSubplot at 0x7f2e483b0110>"
            ]
          },
          "metadata": {},
          "execution_count": 60
        },
        {
          "output_type": "display_data",
          "data": {
            "image/png": "[encoded data removed]",
            "text/plain": [
              "<Figure size 432x288 with 1 Axes>"
            ]
          },
          "metadata": {
            "needs_background": "light"
          }
        }
      ]
    }
  ]
}